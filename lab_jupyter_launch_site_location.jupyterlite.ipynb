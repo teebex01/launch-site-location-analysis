{
  "metadata": {
    "kernelspec": {
      "name": "python",
      "display_name": "Python (Pyodide)",
      "language": "python"
    },
    "language_info": {
      "codemirror_mode": {
        "name": "python",
        "version": 3
      },
      "file_extension": ".py",
      "mimetype": "text/x-python",
      "name": "python",
      "nbconvert_exporter": "python",
      "pygments_lexer": "ipython3",
      "version": "3.8"
    }
  },
  "nbformat_minor": 4,
  "nbformat": 4,
  "cells": [
    {
      "cell_type": "markdown",
      "source": "<p style=\"text-align:center\">\n    <a href=\"https://skills.network/?utm_medium=Exinfluencer&utm_source=Exinfluencer&utm_content=000026UJ&utm_term=10006555&utm_id=NA-SkillsNetwork-Channel-SkillsNetworkCoursesIBMDS0321ENSkillsNetwork26802033-2022-01-01\" target=\"_blank\">\n    <img src=\"https://cf-courses-data.s3.us.cloud-object-storage.appdomain.cloud/assets/logos/SN_web_lightmode.png\" width=\"200\" alt=\"Skills Network Logo\"  />\n    </a>\n</p>\n",
      "metadata": {}
    },
    {
      "cell_type": "markdown",
      "source": "# **Launch Sites Locations Analysis with Folium**\n",
      "metadata": {}
    },
    {
      "cell_type": "markdown",
      "source": "Estimated time needed: **40** minutes\n",
      "metadata": {}
    },
    {
      "cell_type": "markdown",
      "source": "The launch success rate may depend on many factors such as payload mass, orbit type, and so on. It may also depend on the location and proximities of a launch site, i.e., the initial position of rocket trajectories. Finding an optimal location for building a launch site certainly involves many factors and hopefully we could discover some of the factors by analyzing the existing launch site locations.\n",
      "metadata": {}
    },
    {
      "cell_type": "markdown",
      "source": "In the previous exploratory data analysis labs, you have visualized the SpaceX launch dataset using `matplotlib` and `seaborn` and discovered some preliminary correlations between the launch site and success rates. In this lab, you will be performing more interactive visual analytics using `Folium`.\n",
      "metadata": {}
    },
    {
      "cell_type": "markdown",
      "source": "## Objectives\n",
      "metadata": {}
    },
    {
      "cell_type": "markdown",
      "source": "This lab contains the following tasks:\n\n*   **TASK 1:** Mark all launch sites on a map\n*   **TASK 2:** Mark the success/failed launches for each site on the map\n*   **TASK 3:** Calculate the distances between a launch site to its proximities\n\nAfter completed the above tasks, you should be able to find some geographical patterns about launch sites.\n",
      "metadata": {}
    },
    {
      "cell_type": "markdown",
      "source": "Let's first import required Python packages for this lab:\n",
      "metadata": {}
    },
    {
      "cell_type": "code",
      "source": "import piplite\nawait piplite.install(['folium'])\nawait piplite.install(['pandas'])",
      "metadata": {
        "trusted": true
      },
      "outputs": [],
      "execution_count": 1
    },
    {
      "cell_type": "code",
      "source": "import folium\nimport pandas as pd",
      "metadata": {
        "trusted": true
      },
      "outputs": [],
      "execution_count": 2
    },
    {
      "cell_type": "code",
      "source": "# Import folium MarkerCluster plugin\nfrom folium.plugins import MarkerCluster\n# Import folium MousePosition plugin\nfrom folium.plugins import MousePosition\n# Import folium DivIcon plugin\nfrom folium.features import DivIcon",
      "metadata": {
        "trusted": true
      },
      "outputs": [],
      "execution_count": 3
    },
    {
      "cell_type": "markdown",
      "source": "If you need to refresh your memory about folium, you may download and refer to this previous folium lab:\n",
      "metadata": {}
    },
    {
      "cell_type": "markdown",
      "source": "[Generating Maps with Python](https://cf-courses-data.s3.us.cloud-object-storage.appdomain.cloud/IBM-DS0321EN-SkillsNetwork/labs/module\\_3/DV0101EN-3-5-1-Generating-Maps-in-Python-py-v2.0.ipynb)\n",
      "metadata": {}
    },
    {
      "cell_type": "code",
      "source": "## Task 1: Mark all launch sites on a map\n",
      "metadata": {
        "trusted": true
      },
      "outputs": [],
      "execution_count": 4
    },
    {
      "cell_type": "markdown",
      "source": "First, let's try to add each site's location on a map using site's latitude and longitude coordinates\n",
      "metadata": {}
    },
    {
      "cell_type": "markdown",
      "source": "The following dataset with the name `spacex_launch_geo.csv` is an augmented dataset with latitude and longitude added for each site.\n",
      "metadata": {}
    },
    {
      "cell_type": "code",
      "source": "# Download and read the `spacex_launch_geo.csv`\nfrom js import fetch\nimport io\n\nURL = 'https://cf-courses-data.s3.us.cloud-object-storage.appdomain.cloud/IBM-DS0321EN-SkillsNetwork/datasets/spacex_launch_geo.csv'\nresp = await fetch(URL)\nspacex_csv_file = io.BytesIO((await resp.arrayBuffer()).to_py())\nspacex_df=pd.read_csv(spacex_csv_file)\nspacex_df.head(5)",
      "metadata": {
        "trusted": true
      },
      "outputs": [
        {
          "execution_count": 5,
          "output_type": "execute_result",
          "data": {
            "text/plain": "   Flight Number        Date Time (UTC) Booster Version  Launch Site  \\\n0              1  2010-06-04   18:45:00  F9 v1.0  B0003  CCAFS LC-40   \n1              2  2010-12-08   15:43:00  F9 v1.0  B0004  CCAFS LC-40   \n2              3  2012-05-22    7:44:00  F9 v1.0  B0005  CCAFS LC-40   \n3              4  2012-10-08    0:35:00  F9 v1.0  B0006  CCAFS LC-40   \n4              5  2013-03-01   15:10:00  F9 v1.0  B0007  CCAFS LC-40   \n\n                                             Payload  Payload Mass (kg)  \\\n0               Dragon Spacecraft Qualification Unit                0.0   \n1  Dragon demo flight C1, two CubeSats,  barrel o...                0.0   \n2                             Dragon demo flight C2+              525.0   \n3                                       SpaceX CRS-1              500.0   \n4                                       SpaceX CRS-2              677.0   \n\n       Orbit         Customer        Landing Outcome  class        Lat  \\\n0        LEO           SpaceX  Failure   (parachute)      0  28.562302   \n1  LEO (ISS)  NASA (COTS) NRO  Failure   (parachute)      0  28.562302   \n2  LEO (ISS)      NASA (COTS)             No attempt      0  28.562302   \n3  LEO (ISS)       NASA (CRS)             No attempt      0  28.562302   \n4  LEO (ISS)       NASA (CRS)             No attempt      0  28.562302   \n\n        Long  \n0 -80.577356  \n1 -80.577356  \n2 -80.577356  \n3 -80.577356  \n4 -80.577356  ",
            "text/html": "<div>\n<style scoped>\n    .dataframe tbody tr th:only-of-type {\n        vertical-align: middle;\n    }\n\n    .dataframe tbody tr th {\n        vertical-align: top;\n    }\n\n    .dataframe thead th {\n        text-align: right;\n    }\n</style>\n<table border=\"1\" class=\"dataframe\">\n  <thead>\n    <tr style=\"text-align: right;\">\n      <th></th>\n      <th>Flight Number</th>\n      <th>Date</th>\n      <th>Time (UTC)</th>\n      <th>Booster Version</th>\n      <th>Launch Site</th>\n      <th>Payload</th>\n      <th>Payload Mass (kg)</th>\n      <th>Orbit</th>\n      <th>Customer</th>\n      <th>Landing Outcome</th>\n      <th>class</th>\n      <th>Lat</th>\n      <th>Long</th>\n    </tr>\n  </thead>\n  <tbody>\n    <tr>\n      <th>0</th>\n      <td>1</td>\n      <td>2010-06-04</td>\n      <td>18:45:00</td>\n      <td>F9 v1.0  B0003</td>\n      <td>CCAFS LC-40</td>\n      <td>Dragon Spacecraft Qualification Unit</td>\n      <td>0.0</td>\n      <td>LEO</td>\n      <td>SpaceX</td>\n      <td>Failure   (parachute)</td>\n      <td>0</td>\n      <td>28.562302</td>\n      <td>-80.577356</td>\n    </tr>\n    <tr>\n      <th>1</th>\n      <td>2</td>\n      <td>2010-12-08</td>\n      <td>15:43:00</td>\n      <td>F9 v1.0  B0004</td>\n      <td>CCAFS LC-40</td>\n      <td>Dragon demo flight C1, two CubeSats,  barrel o...</td>\n      <td>0.0</td>\n      <td>LEO (ISS)</td>\n      <td>NASA (COTS) NRO</td>\n      <td>Failure   (parachute)</td>\n      <td>0</td>\n      <td>28.562302</td>\n      <td>-80.577356</td>\n    </tr>\n    <tr>\n      <th>2</th>\n      <td>3</td>\n      <td>2012-05-22</td>\n      <td>7:44:00</td>\n      <td>F9 v1.0  B0005</td>\n      <td>CCAFS LC-40</td>\n      <td>Dragon demo flight C2+</td>\n      <td>525.0</td>\n      <td>LEO (ISS)</td>\n      <td>NASA (COTS)</td>\n      <td>No attempt</td>\n      <td>0</td>\n      <td>28.562302</td>\n      <td>-80.577356</td>\n    </tr>\n    <tr>\n      <th>3</th>\n      <td>4</td>\n      <td>2012-10-08</td>\n      <td>0:35:00</td>\n      <td>F9 v1.0  B0006</td>\n      <td>CCAFS LC-40</td>\n      <td>SpaceX CRS-1</td>\n      <td>500.0</td>\n      <td>LEO (ISS)</td>\n      <td>NASA (CRS)</td>\n      <td>No attempt</td>\n      <td>0</td>\n      <td>28.562302</td>\n      <td>-80.577356</td>\n    </tr>\n    <tr>\n      <th>4</th>\n      <td>5</td>\n      <td>2013-03-01</td>\n      <td>15:10:00</td>\n      <td>F9 v1.0  B0007</td>\n      <td>CCAFS LC-40</td>\n      <td>SpaceX CRS-2</td>\n      <td>677.0</td>\n      <td>LEO (ISS)</td>\n      <td>NASA (CRS)</td>\n      <td>No attempt</td>\n      <td>0</td>\n      <td>28.562302</td>\n      <td>-80.577356</td>\n    </tr>\n  </tbody>\n</table>\n</div>"
          },
          "metadata": {}
        }
      ],
      "execution_count": 5
    },
    {
      "cell_type": "code",
      "source": "data=spacex_df\ndata.head(2)",
      "metadata": {
        "trusted": true
      },
      "outputs": [
        {
          "execution_count": 70,
          "output_type": "execute_result",
          "data": {
            "text/plain": "   Flight Number        Date Time (UTC) Booster Version  Launch Site  \\\n0              1  2010-06-04   18:45:00  F9 v1.0  B0003  CCAFS LC-40   \n1              2  2010-12-08   15:43:00  F9 v1.0  B0004  CCAFS LC-40   \n\n                                             Payload  Payload Mass (kg)  \\\n0               Dragon Spacecraft Qualification Unit                0.0   \n1  Dragon demo flight C1, two CubeSats,  barrel o...                0.0   \n\n       Orbit         Customer        Landing Outcome  class        Lat  \\\n0        LEO           SpaceX  Failure   (parachute)      0  28.562302   \n1  LEO (ISS)  NASA (COTS) NRO  Failure   (parachute)      0  28.562302   \n\n        Long  \n0 -80.577356  \n1 -80.577356  ",
            "text/html": "<div>\n<style scoped>\n    .dataframe tbody tr th:only-of-type {\n        vertical-align: middle;\n    }\n\n    .dataframe tbody tr th {\n        vertical-align: top;\n    }\n\n    .dataframe thead th {\n        text-align: right;\n    }\n</style>\n<table border=\"1\" class=\"dataframe\">\n  <thead>\n    <tr style=\"text-align: right;\">\n      <th></th>\n      <th>Flight Number</th>\n      <th>Date</th>\n      <th>Time (UTC)</th>\n      <th>Booster Version</th>\n      <th>Launch Site</th>\n      <th>Payload</th>\n      <th>Payload Mass (kg)</th>\n      <th>Orbit</th>\n      <th>Customer</th>\n      <th>Landing Outcome</th>\n      <th>class</th>\n      <th>Lat</th>\n      <th>Long</th>\n    </tr>\n  </thead>\n  <tbody>\n    <tr>\n      <th>0</th>\n      <td>1</td>\n      <td>2010-06-04</td>\n      <td>18:45:00</td>\n      <td>F9 v1.0  B0003</td>\n      <td>CCAFS LC-40</td>\n      <td>Dragon Spacecraft Qualification Unit</td>\n      <td>0.0</td>\n      <td>LEO</td>\n      <td>SpaceX</td>\n      <td>Failure   (parachute)</td>\n      <td>0</td>\n      <td>28.562302</td>\n      <td>-80.577356</td>\n    </tr>\n    <tr>\n      <th>1</th>\n      <td>2</td>\n      <td>2010-12-08</td>\n      <td>15:43:00</td>\n      <td>F9 v1.0  B0004</td>\n      <td>CCAFS LC-40</td>\n      <td>Dragon demo flight C1, two CubeSats,  barrel o...</td>\n      <td>0.0</td>\n      <td>LEO (ISS)</td>\n      <td>NASA (COTS) NRO</td>\n      <td>Failure   (parachute)</td>\n      <td>0</td>\n      <td>28.562302</td>\n      <td>-80.577356</td>\n    </tr>\n  </tbody>\n</table>\n</div>"
          },
          "metadata": {}
        }
      ],
      "execution_count": 70
    },
    {
      "cell_type": "code",
      "source": "data['Landing Outcome'].unique()",
      "metadata": {
        "trusted": true
      },
      "outputs": [
        {
          "execution_count": 29,
          "output_type": "execute_result",
          "data": {
            "text/plain": "array(['Failure   (parachute)', 'No attempt', 'Controlled (ocean)',\n       'Uncontrolled (ocean)', 'Failure  (drone ship)',\n       'Precluded  (drone ship)', 'Success  (ground pad)',\n       'Failure (drone ship)', 'Success  (drone ship)',\n       'Success (drone ship)', 'Success (ground pad)'], dtype=object)"
          },
          "metadata": {}
        }
      ],
      "execution_count": 29
    },
    {
      "cell_type": "code",
      "source": "data.head(5)",
      "metadata": {
        "trusted": true
      },
      "outputs": [
        {
          "execution_count": 48,
          "output_type": "execute_result",
          "data": {
            "text/plain": "   Flight Number        Date Time (UTC) Booster Version  Launch Site  \\\n0              1  2010-06-04   18:45:00  F9 v1.0  B0003  CCAFS LC-40   \n1              2  2010-12-08   15:43:00  F9 v1.0  B0004  CCAFS LC-40   \n2              3  2012-05-22    7:44:00  F9 v1.0  B0005  CCAFS LC-40   \n3              4  2012-10-08    0:35:00  F9 v1.0  B0006  CCAFS LC-40   \n4              5  2013-03-01   15:10:00  F9 v1.0  B0007  CCAFS LC-40   \n\n                                             Payload  Payload Mass (kg)  \\\n0               Dragon Spacecraft Qualification Unit                0.0   \n1  Dragon demo flight C1, two CubeSats,  barrel o...                0.0   \n2                             Dragon demo flight C2+              525.0   \n3                                       SpaceX CRS-1              500.0   \n4                                       SpaceX CRS-2              677.0   \n\n       Orbit         Customer        Landing Outcome  class        Lat  \\\n0        LEO           SpaceX  Failure   (parachute)      0  28.562302   \n1  LEO (ISS)  NASA (COTS) NRO  Failure   (parachute)      0  28.562302   \n2  LEO (ISS)      NASA (COTS)             No attempt      0  28.562302   \n3  LEO (ISS)       NASA (CRS)             No attempt      0  28.562302   \n4  LEO (ISS)       NASA (CRS)             No attempt      0  28.562302   \n\n        Long  \n0 -80.577356  \n1 -80.577356  \n2 -80.577356  \n3 -80.577356  \n4 -80.577356  ",
            "text/html": "<div>\n<style scoped>\n    .dataframe tbody tr th:only-of-type {\n        vertical-align: middle;\n    }\n\n    .dataframe tbody tr th {\n        vertical-align: top;\n    }\n\n    .dataframe thead th {\n        text-align: right;\n    }\n</style>\n<table border=\"1\" class=\"dataframe\">\n  <thead>\n    <tr style=\"text-align: right;\">\n      <th></th>\n      <th>Flight Number</th>\n      <th>Date</th>\n      <th>Time (UTC)</th>\n      <th>Booster Version</th>\n      <th>Launch Site</th>\n      <th>Payload</th>\n      <th>Payload Mass (kg)</th>\n      <th>Orbit</th>\n      <th>Customer</th>\n      <th>Landing Outcome</th>\n      <th>class</th>\n      <th>Lat</th>\n      <th>Long</th>\n    </tr>\n  </thead>\n  <tbody>\n    <tr>\n      <th>0</th>\n      <td>1</td>\n      <td>2010-06-04</td>\n      <td>18:45:00</td>\n      <td>F9 v1.0  B0003</td>\n      <td>CCAFS LC-40</td>\n      <td>Dragon Spacecraft Qualification Unit</td>\n      <td>0.0</td>\n      <td>LEO</td>\n      <td>SpaceX</td>\n      <td>Failure   (parachute)</td>\n      <td>0</td>\n      <td>28.562302</td>\n      <td>-80.577356</td>\n    </tr>\n    <tr>\n      <th>1</th>\n      <td>2</td>\n      <td>2010-12-08</td>\n      <td>15:43:00</td>\n      <td>F9 v1.0  B0004</td>\n      <td>CCAFS LC-40</td>\n      <td>Dragon demo flight C1, two CubeSats,  barrel o...</td>\n      <td>0.0</td>\n      <td>LEO (ISS)</td>\n      <td>NASA (COTS) NRO</td>\n      <td>Failure   (parachute)</td>\n      <td>0</td>\n      <td>28.562302</td>\n      <td>-80.577356</td>\n    </tr>\n    <tr>\n      <th>2</th>\n      <td>3</td>\n      <td>2012-05-22</td>\n      <td>7:44:00</td>\n      <td>F9 v1.0  B0005</td>\n      <td>CCAFS LC-40</td>\n      <td>Dragon demo flight C2+</td>\n      <td>525.0</td>\n      <td>LEO (ISS)</td>\n      <td>NASA (COTS)</td>\n      <td>No attempt</td>\n      <td>0</td>\n      <td>28.562302</td>\n      <td>-80.577356</td>\n    </tr>\n    <tr>\n      <th>3</th>\n      <td>4</td>\n      <td>2012-10-08</td>\n      <td>0:35:00</td>\n      <td>F9 v1.0  B0006</td>\n      <td>CCAFS LC-40</td>\n      <td>SpaceX CRS-1</td>\n      <td>500.0</td>\n      <td>LEO (ISS)</td>\n      <td>NASA (CRS)</td>\n      <td>No attempt</td>\n      <td>0</td>\n      <td>28.562302</td>\n      <td>-80.577356</td>\n    </tr>\n    <tr>\n      <th>4</th>\n      <td>5</td>\n      <td>2013-03-01</td>\n      <td>15:10:00</td>\n      <td>F9 v1.0  B0007</td>\n      <td>CCAFS LC-40</td>\n      <td>SpaceX CRS-2</td>\n      <td>677.0</td>\n      <td>LEO (ISS)</td>\n      <td>NASA (CRS)</td>\n      <td>No attempt</td>\n      <td>0</td>\n      <td>28.562302</td>\n      <td>-80.577356</td>\n    </tr>\n  </tbody>\n</table>\n</div>"
          },
          "metadata": {}
        }
      ],
      "execution_count": 48
    },
    {
      "cell_type": "code",
      "source": "data1=data[data[\"Landing Outcome\"].str.contains(\"Success\")]\ndata2=data1[data1['Date'].between('2010-06-04','2017-03-20')] #filter the data by date\ndate_sort=data2.sort_values(by='Date', ascending=False) #sort the data by date in descending order\ndate_sort",
      "metadata": {
        "trusted": true
      },
      "outputs": [
        {
          "execution_count": 77,
          "output_type": "execute_result",
          "data": {
            "text/plain": "    Flight Number        Date Time (UTC) Booster Version  Launch Site  \\\n36             30  2017-02-19   14:39:00   F9 FT B1031.1   KSC LC-39A   \n28             29  2017-01-14   17:54:00   F9 FT B1029.1  VAFB SLC-4E   \n25             28  2016-08-14    5:26:00     F9 FT B1026  CCAFS LC-40   \n24             27  2016-07-18    4:45:00   F9 FT B1025.1  CCAFS LC-40   \n22             25  2016-05-27   21:39:00   F9 FT B1023.1  CCAFS LC-40   \n21             24  2016-05-06    5:21:00     F9 FT B1022  CCAFS LC-40   \n20             23  2016-04-08   20:43:00   F9 FT B1021.1  CCAFS LC-40   \n18             20  2015-12-22    1:29:00     F9 FT B1019  CCAFS LC-40   \n\n                                      Payload  Payload Mass (kg)      Orbit  \\\n36                              SpaceX CRS-10             2490.0  LEO (ISS)   \n28                             Iridium NEXT 1             9600.0  Polar LEO   \n25                                   JCSAT-16             4600.0        GTO   \n24                               SpaceX CRS-9             2257.0  LEO (ISS)   \n22                                  Thaicom 8             3100.0        GTO   \n21                                   JCSAT-14             4696.0        GTO   \n20                               SpaceX CRS-8             3136.0  LEO (ISS)   \n18  OG2 Mission 2   11 Orbcomm-OG2 satellites             2034.0        LEO   \n\n                  Customer        Landing Outcome  class        Lat  \\\n36              NASA (CRS)   Success (ground pad)      1  28.573255   \n28  Iridium Communications  Success  (drone ship)      1  34.632834   \n25  SKY Perfect JSAT Group   Success (drone ship)      1  28.562302   \n24              NASA (CRS)   Success (ground pad)      1  28.562302   \n22                 Thaicom  Success  (drone ship)      1  28.562302   \n21  SKY Perfect JSAT Group   Success (drone ship)      1  28.562302   \n20              NASA (CRS)  Success  (drone ship)      1  28.562302   \n18                 Orbcomm  Success  (ground pad)      1  28.562302   \n\n          Long  \n36  -80.646895  \n28 -120.610745  \n25  -80.577356  \n24  -80.577356  \n22  -80.577356  \n21  -80.577356  \n20  -80.577356  \n18  -80.577356  ",
            "text/html": "<div>\n<style scoped>\n    .dataframe tbody tr th:only-of-type {\n        vertical-align: middle;\n    }\n\n    .dataframe tbody tr th {\n        vertical-align: top;\n    }\n\n    .dataframe thead th {\n        text-align: right;\n    }\n</style>\n<table border=\"1\" class=\"dataframe\">\n  <thead>\n    <tr style=\"text-align: right;\">\n      <th></th>\n      <th>Flight Number</th>\n      <th>Date</th>\n      <th>Time (UTC)</th>\n      <th>Booster Version</th>\n      <th>Launch Site</th>\n      <th>Payload</th>\n      <th>Payload Mass (kg)</th>\n      <th>Orbit</th>\n      <th>Customer</th>\n      <th>Landing Outcome</th>\n      <th>class</th>\n      <th>Lat</th>\n      <th>Long</th>\n    </tr>\n  </thead>\n  <tbody>\n    <tr>\n      <th>36</th>\n      <td>30</td>\n      <td>2017-02-19</td>\n      <td>14:39:00</td>\n      <td>F9 FT B1031.1</td>\n      <td>KSC LC-39A</td>\n      <td>SpaceX CRS-10</td>\n      <td>2490.0</td>\n      <td>LEO (ISS)</td>\n      <td>NASA (CRS)</td>\n      <td>Success (ground pad)</td>\n      <td>1</td>\n      <td>28.573255</td>\n      <td>-80.646895</td>\n    </tr>\n    <tr>\n      <th>28</th>\n      <td>29</td>\n      <td>2017-01-14</td>\n      <td>17:54:00</td>\n      <td>F9 FT B1029.1</td>\n      <td>VAFB SLC-4E</td>\n      <td>Iridium NEXT 1</td>\n      <td>9600.0</td>\n      <td>Polar LEO</td>\n      <td>Iridium Communications</td>\n      <td>Success  (drone ship)</td>\n      <td>1</td>\n      <td>34.632834</td>\n      <td>-120.610745</td>\n    </tr>\n    <tr>\n      <th>25</th>\n      <td>28</td>\n      <td>2016-08-14</td>\n      <td>5:26:00</td>\n      <td>F9 FT B1026</td>\n      <td>CCAFS LC-40</td>\n      <td>JCSAT-16</td>\n      <td>4600.0</td>\n      <td>GTO</td>\n      <td>SKY Perfect JSAT Group</td>\n      <td>Success (drone ship)</td>\n      <td>1</td>\n      <td>28.562302</td>\n      <td>-80.577356</td>\n    </tr>\n    <tr>\n      <th>24</th>\n      <td>27</td>\n      <td>2016-07-18</td>\n      <td>4:45:00</td>\n      <td>F9 FT B1025.1</td>\n      <td>CCAFS LC-40</td>\n      <td>SpaceX CRS-9</td>\n      <td>2257.0</td>\n      <td>LEO (ISS)</td>\n      <td>NASA (CRS)</td>\n      <td>Success (ground pad)</td>\n      <td>1</td>\n      <td>28.562302</td>\n      <td>-80.577356</td>\n    </tr>\n    <tr>\n      <th>22</th>\n      <td>25</td>\n      <td>2016-05-27</td>\n      <td>21:39:00</td>\n      <td>F9 FT B1023.1</td>\n      <td>CCAFS LC-40</td>\n      <td>Thaicom 8</td>\n      <td>3100.0</td>\n      <td>GTO</td>\n      <td>Thaicom</td>\n      <td>Success  (drone ship)</td>\n      <td>1</td>\n      <td>28.562302</td>\n      <td>-80.577356</td>\n    </tr>\n    <tr>\n      <th>21</th>\n      <td>24</td>\n      <td>2016-05-06</td>\n      <td>5:21:00</td>\n      <td>F9 FT B1022</td>\n      <td>CCAFS LC-40</td>\n      <td>JCSAT-14</td>\n      <td>4696.0</td>\n      <td>GTO</td>\n      <td>SKY Perfect JSAT Group</td>\n      <td>Success (drone ship)</td>\n      <td>1</td>\n      <td>28.562302</td>\n      <td>-80.577356</td>\n    </tr>\n    <tr>\n      <th>20</th>\n      <td>23</td>\n      <td>2016-04-08</td>\n      <td>20:43:00</td>\n      <td>F9 FT B1021.1</td>\n      <td>CCAFS LC-40</td>\n      <td>SpaceX CRS-8</td>\n      <td>3136.0</td>\n      <td>LEO (ISS)</td>\n      <td>NASA (CRS)</td>\n      <td>Success  (drone ship)</td>\n      <td>1</td>\n      <td>28.562302</td>\n      <td>-80.577356</td>\n    </tr>\n    <tr>\n      <th>18</th>\n      <td>20</td>\n      <td>2015-12-22</td>\n      <td>1:29:00</td>\n      <td>F9 FT B1019</td>\n      <td>CCAFS LC-40</td>\n      <td>OG2 Mission 2   11 Orbcomm-OG2 satellites</td>\n      <td>2034.0</td>\n      <td>LEO</td>\n      <td>Orbcomm</td>\n      <td>Success  (ground pad)</td>\n      <td>1</td>\n      <td>28.562302</td>\n      <td>-80.577356</td>\n    </tr>\n  </tbody>\n</table>\n</div>"
          },
          "metadata": {}
        }
      ],
      "execution_count": 77
    },
    {
      "cell_type": "code",
      "source": "data.max()[['Payload Mass (kg)', 'Booster Version']] #sort the for max in tow column",
      "metadata": {
        "trusted": true
      },
      "outputs": [
        {
          "execution_count": 46,
          "output_type": "execute_result",
          "data": {
            "text/plain": "Payload Mass (kg)           9600.0\nBooster Version      F9 v1.1 B1018\ndtype: object"
          },
          "metadata": {}
        }
      ],
      "execution_count": 46
    },
    {
      "cell_type": "code",
      "source": "",
      "metadata": {
        "trusted": true
      },
      "outputs": [
        {
          "execution_count": 47,
          "output_type": "execute_result",
          "data": {
            "text/plain": "9600.0"
          },
          "metadata": {}
        }
      ],
      "execution_count": 47
    },
    {
      "cell_type": "code",
      "source": "success_filtered_data = data[data[\"Landing Outcome\"].str.contains(\"Success\")] # filter the data in column 'Landing Outcome-success'\nfailure_filtered_data = data[data[\"Landing Outcome\"].str.contains(\"Failure\")] # filter the data in column 'Landing Outcome-failure'\ntotal_failure=failure_filtered_data['Flight Number'].count() #show the count of failure\ntotal_success=success_filtered_data['Flight Number'].count() #show the count total_success\ntotal_success\ntotal_failure\nprint(total_success, total_failure)",
      "metadata": {
        "trusted": true
      },
      "outputs": [
        {
          "name": "stdout",
          "text": "23 7\n",
          "output_type": "stream"
        }
      ],
      "execution_count": 28
    },
    {
      "cell_type": "code",
      "source": "data.info()",
      "metadata": {
        "trusted": true
      },
      "outputs": [
        {
          "name": "stdout",
          "text": "<class 'pandas.core.frame.DataFrame'>\nRangeIndex: 56 entries, 0 to 55\nData columns (total 13 columns):\n #   Column             Non-Null Count  Dtype  \n---  ------             --------------  -----  \n 0   Flight Number      56 non-null     int64  \n 1   Date               56 non-null     object \n 2   Time (UTC)         56 non-null     object \n 3   Booster Version    56 non-null     object \n 4   Launch Site        56 non-null     object \n 5   Payload            56 non-null     object \n 6   Payload Mass (kg)  56 non-null     float64\n 7   Orbit              56 non-null     object \n 8   Customer           56 non-null     object \n 9   Landing Outcome    56 non-null     object \n 10  class              56 non-null     int64  \n 11  Lat                56 non-null     float64\n 12  Long               56 non-null     float64\ndtypes: float64(3), int64(2), object(8)\nmemory usage: 4.0+ KB\n",
          "output_type": "stream"
        }
      ],
      "execution_count": 8
    },
    {
      "cell_type": "code",
      "source": "from matplotlib import pyplot as plt\nfiltered_data = data[data[\"Landing Outcome\"].str.contains(\"Success\")]\ndata1=filtered_data\ndata2=data1.groupby(['Orbit']).count()#.reset_index(name='size') #group Orbit to count \nx=data2['Landing Outcome'].reset_index(name='Size')\n#data2\nplt.bar(x['Orbit'], x['Size']) #plot the graph\nplt.show()\n",
      "metadata": {
        "trusted": true
      },
      "outputs": [
        {
          "output_type": "display_data",
          "data": {
            "text/plain": "<Figure size 640x480 with 1 Axes>",
            "image/png": "[encoded data removed]"
          },
          "metadata": {}
        }
      ],
      "execution_count": 9
    },
    {
      "cell_type": "code",
      "source": "import matplotlib.pyplot as plt\nfig, ax = plt.subplots() # start plot the gragh\nfiltered_data = data[data[\"Landing Outcome\"].str.contains(\"Success\")]\ndata1=filtered_data\ndata2=data1.groupby(['Orbit']).count()#group Orbit to count \nx=data2['Landing Outcome'].reset_index(name='Size') # reset the index column\nax.bar(x['Orbit'], x['Size'])\n\nax.set_ylabel('Size')\nax.set_xlabel('Orbit')\nax.set_title('Success Rate vs. Orbit Type')\n\nplt.show()",
      "metadata": {
        "trusted": true
      },
      "outputs": [
        {
          "output_type": "display_data",
          "data": {
            "text/plain": "<Figure size 640x480 with 1 Axes>",
            "image/png": "[encoded data removed]"
          },
          "metadata": {}
        }
      ],
      "execution_count": 10
    },
    {
      "cell_type": "code",
      "source": "filtered_data = data[data[\"Landing Outcome\"].str.contains(\"ground pad\")]\ndata1=filtered_data\ndata1['Date']= pd.to_datetime(data1['Date']) # Convert the 'Date' column to datetime format\n#data1.info()\ndate_result=data1.sort_values('Date', ascending=True) # Sort the dataframe in ascending order\ndate_result.head(5) # The final output",
      "metadata": {
        "trusted": true,
        "scrolled": true
      },
      "outputs": [
        {
          "name": "stderr",
          "text": "<ipython-input-60-bbf731d6fb8c>:3: SettingWithCopyWarning: \nA value is trying to be set on a copy of a slice from a DataFrame.\nTry using .loc[row_indexer,col_indexer] = value instead\n\nSee the caveats in the documentation: https://pandas.pydata.org/pandas-docs/stable/user_guide/indexing.html#returning-a-view-versus-a-copy\n  data1['Date']= pd.to_datetime(data1['Date']) # Convert the 'Date' column to datetime format\n",
          "output_type": "stream"
        },
        {
          "execution_count": 60,
          "output_type": "execute_result",
          "data": {
            "text/plain": "    Flight Number       Date Time (UTC) Booster Version  Launch Site  \\\n18             20 2015-12-22    1:29:00     F9 FT B1019  CCAFS LC-40   \n24             27 2016-07-18    4:45:00   F9 FT B1025.1  CCAFS LC-40   \n36             30 2017-02-19   14:39:00   F9 FT B1031.1   KSC LC-39A   \n39             33 2017-05-01   11:15:00   F9 FT B1032.1   KSC LC-39A   \n41             35 2017-06-03   21:07:00   F9 FT B1035.1   KSC LC-39A   \n\n                                      Payload  Payload Mass (kg)      Orbit  \\\n18  OG2 Mission 2   11 Orbcomm-OG2 satellites            2034.00        LEO   \n24                               SpaceX CRS-9            2257.00  LEO (ISS)   \n36                              SpaceX CRS-10            2490.00  LEO (ISS)   \n39                                    NROL-76            3696.65        LEO   \n41                              SpaceX CRS-11            2708.00  LEO (ISS)   \n\n      Customer        Landing Outcome  class        Lat       Long  \n18     Orbcomm  Success  (ground pad)      1  28.562302 -80.577356  \n24  NASA (CRS)   Success (ground pad)      1  28.562302 -80.577356  \n36  NASA (CRS)   Success (ground pad)      1  28.573255 -80.646895  \n39         NRO   Success (ground pad)      1  28.573255 -80.646895  \n41  NASA (CRS)   Success (ground pad)      1  28.573255 -80.646895  ",
            "text/html": "<div>\n<style scoped>\n    .dataframe tbody tr th:only-of-type {\n        vertical-align: middle;\n    }\n\n    .dataframe tbody tr th {\n        vertical-align: top;\n    }\n\n    .dataframe thead th {\n        text-align: right;\n    }\n</style>\n<table border=\"1\" class=\"dataframe\">\n  <thead>\n    <tr style=\"text-align: right;\">\n      <th></th>\n      <th>Flight Number</th>\n      <th>Date</th>\n      <th>Time (UTC)</th>\n      <th>Booster Version</th>\n      <th>Launch Site</th>\n      <th>Payload</th>\n      <th>Payload Mass (kg)</th>\n      <th>Orbit</th>\n      <th>Customer</th>\n      <th>Landing Outcome</th>\n      <th>class</th>\n      <th>Lat</th>\n      <th>Long</th>\n    </tr>\n  </thead>\n  <tbody>\n    <tr>\n      <th>18</th>\n      <td>20</td>\n      <td>2015-12-22</td>\n      <td>1:29:00</td>\n      <td>F9 FT B1019</td>\n      <td>CCAFS LC-40</td>\n      <td>OG2 Mission 2   11 Orbcomm-OG2 satellites</td>\n      <td>2034.00</td>\n      <td>LEO</td>\n      <td>Orbcomm</td>\n      <td>Success  (ground pad)</td>\n      <td>1</td>\n      <td>28.562302</td>\n      <td>-80.577356</td>\n    </tr>\n    <tr>\n      <th>24</th>\n      <td>27</td>\n      <td>2016-07-18</td>\n      <td>4:45:00</td>\n      <td>F9 FT B1025.1</td>\n      <td>CCAFS LC-40</td>\n      <td>SpaceX CRS-9</td>\n      <td>2257.00</td>\n      <td>LEO (ISS)</td>\n      <td>NASA (CRS)</td>\n      <td>Success (ground pad)</td>\n      <td>1</td>\n      <td>28.562302</td>\n      <td>-80.577356</td>\n    </tr>\n    <tr>\n      <th>36</th>\n      <td>30</td>\n      <td>2017-02-19</td>\n      <td>14:39:00</td>\n      <td>F9 FT B1031.1</td>\n      <td>KSC LC-39A</td>\n      <td>SpaceX CRS-10</td>\n      <td>2490.00</td>\n      <td>LEO (ISS)</td>\n      <td>NASA (CRS)</td>\n      <td>Success (ground pad)</td>\n      <td>1</td>\n      <td>28.573255</td>\n      <td>-80.646895</td>\n    </tr>\n    <tr>\n      <th>39</th>\n      <td>33</td>\n      <td>2017-05-01</td>\n      <td>11:15:00</td>\n      <td>F9 FT B1032.1</td>\n      <td>KSC LC-39A</td>\n      <td>NROL-76</td>\n      <td>3696.65</td>\n      <td>LEO</td>\n      <td>NRO</td>\n      <td>Success (ground pad)</td>\n      <td>1</td>\n      <td>28.573255</td>\n      <td>-80.646895</td>\n    </tr>\n    <tr>\n      <th>41</th>\n      <td>35</td>\n      <td>2017-06-03</td>\n      <td>21:07:00</td>\n      <td>F9 FT B1035.1</td>\n      <td>KSC LC-39A</td>\n      <td>SpaceX CRS-11</td>\n      <td>2708.00</td>\n      <td>LEO (ISS)</td>\n      <td>NASA (CRS)</td>\n      <td>Success (ground pad)</td>\n      <td>1</td>\n      <td>28.573255</td>\n      <td>-80.646895</td>\n    </tr>\n  </tbody>\n</table>\n</div>"
          },
          "metadata": {}
        }
      ],
      "execution_count": 60
    },
    {
      "cell_type": "code",
      "source": "#import pandas as pd\nfiltered_data = data[data[\"Landing Outcome\"].str.contains(\"Failure\")]\n#filtered_data\nfiltered_data['Date']= pd.to_datetime(filtered_data['Date']) # Convert the 'Date' column to datetime format\ndata6=filtered_data[filtered_data['Date'].dt.strftime('%Y') == '2015'] # filter by single year\ndata6[['Date','Booster Version','Landing Outcome']]",
      "metadata": {
        "trusted": true
      },
      "outputs": [
        {
          "name": "stderr",
          "text": "<ipython-input-68-19d8c61be85a>:4: SettingWithCopyWarning: \nA value is trying to be set on a copy of a slice from a DataFrame.\nTry using .loc[row_indexer,col_indexer] = value instead\n\nSee the caveats in the documentation: https://pandas.pydata.org/pandas-docs/stable/user_guide/indexing.html#returning-a-view-versus-a-copy\n  filtered_data['Date']= pd.to_datetime(filtered_data['Date']) # Convert the 'Date' column to datetime format\n",
          "output_type": "stream"
        },
        {
          "execution_count": 68,
          "output_type": "execute_result",
          "data": {
            "text/plain": "         Date Booster Version        Landing Outcome\n12 2015-01-10   F9 v1.1 B1012  Failure  (drone ship)\n15 2015-04-14   F9 v1.1 B1015  Failure  (drone ship)",
            "text/html": "<div>\n<style scoped>\n    .dataframe tbody tr th:only-of-type {\n        vertical-align: middle;\n    }\n\n    .dataframe tbody tr th {\n        vertical-align: top;\n    }\n\n    .dataframe thead th {\n        text-align: right;\n    }\n</style>\n<table border=\"1\" class=\"dataframe\">\n  <thead>\n    <tr style=\"text-align: right;\">\n      <th></th>\n      <th>Date</th>\n      <th>Booster Version</th>\n      <th>Landing Outcome</th>\n    </tr>\n  </thead>\n  <tbody>\n    <tr>\n      <th>12</th>\n      <td>2015-01-10</td>\n      <td>F9 v1.1 B1012</td>\n      <td>Failure  (drone ship)</td>\n    </tr>\n    <tr>\n      <th>15</th>\n      <td>2015-04-14</td>\n      <td>F9 v1.1 B1015</td>\n      <td>Failure  (drone ship)</td>\n    </tr>\n  </tbody>\n</table>\n</div>"
          },
          "metadata": {}
        }
      ],
      "execution_count": 68
    },
    {
      "cell_type": "code",
      "source": "filter_2015=data[data[\"Date\"].str.contains(\"2015\")]\n#filter_2015\nx=filter_2015['Landing Outcome'].str.contains('Failure')\nx",
      "metadata": {
        "trusted": true
      },
      "outputs": [
        {
          "execution_count": 59,
          "output_type": "execute_result",
          "data": {
            "text/plain": "12     True\n13    False\n14    False\n15     True\n16    False\n17    False\n18    False\nName: Landing Outcome, dtype: bool"
          },
          "metadata": {}
        }
      ],
      "execution_count": 59
    },
    {
      "cell_type": "code",
      "source": "import matplotlib.pyplot as plt # install the app for plotting\nx=data['Orbit'] # assign the Orbit columns to variable \ny=data['Payload Mass (kg)'] # assign the Payload Mass (kg) columns to variable \nplt.scatter(x,y, c='blue')\nplt.xlabel(\"Orbit\")\nplt.ylabel(\"Payload Mass (kg)\")\nplt.show()\n\n",
      "metadata": {
        "trusted": true
      },
      "outputs": [
        {
          "output_type": "display_data",
          "data": {
            "text/plain": "<Figure size 640x480 with 1 Axes>",
            "image/png": "[encoded data removed]"
          },
          "metadata": {}
        }
      ],
      "execution_count": 50
    },
    {
      "cell_type": "markdown",
      "source": "Now, you can take a look at what are the coordinates for each site.\n",
      "metadata": {}
    },
    {
      "cell_type": "code",
      "source": "# Select relevant sub-columns: `Launch Site`, `Lat(Latitude)`, `Long(Longitude)`, `class`\nspacex_df = spacex_df[['Launch Site', 'Lat', 'Long', 'class']]\nlaunch_sites_df = spacex_df.groupby(['Launch Site'], as_index=False).first()\nlaunch_sites_df = launch_sites_df[['Launch Site', 'Lat', 'Long']]\nlaunch_sites_df",
      "metadata": {
        "trusted": true
      },
      "outputs": [
        {
          "execution_count": 7,
          "output_type": "execute_result",
          "data": {
            "text/plain": "    Launch Site        Lat        Long\n0   CCAFS LC-40  28.562302  -80.577356\n1  CCAFS SLC-40  28.563197  -80.576820\n2    KSC LC-39A  28.573255  -80.646895\n3   VAFB SLC-4E  34.632834 -120.610745",
            "text/html": "<div>\n<style scoped>\n    .dataframe tbody tr th:only-of-type {\n        vertical-align: middle;\n    }\n\n    .dataframe tbody tr th {\n        vertical-align: top;\n    }\n\n    .dataframe thead th {\n        text-align: right;\n    }\n</style>\n<table border=\"1\" class=\"dataframe\">\n  <thead>\n    <tr style=\"text-align: right;\">\n      <th></th>\n      <th>Launch Site</th>\n      <th>Lat</th>\n      <th>Long</th>\n    </tr>\n  </thead>\n  <tbody>\n    <tr>\n      <th>0</th>\n      <td>CCAFS LC-40</td>\n      <td>28.562302</td>\n      <td>-80.577356</td>\n    </tr>\n    <tr>\n      <th>1</th>\n      <td>CCAFS SLC-40</td>\n      <td>28.563197</td>\n      <td>-80.576820</td>\n    </tr>\n    <tr>\n      <th>2</th>\n      <td>KSC LC-39A</td>\n      <td>28.573255</td>\n      <td>-80.646895</td>\n    </tr>\n    <tr>\n      <th>3</th>\n      <td>VAFB SLC-4E</td>\n      <td>34.632834</td>\n      <td>-120.610745</td>\n    </tr>\n  </tbody>\n</table>\n</div>"
          },
          "metadata": {}
        }
      ],
      "execution_count": 7
    },
    {
      "cell_type": "markdown",
      "source": "Above coordinates are just plain numbers that can not give you any intuitive insights about where are those launch sites. If you are very good at geography, you can interpret those numbers directly in your mind. If not, that's fine too. Let's visualize those locations by pinning them on a map.\n",
      "metadata": {}
    },
    {
      "cell_type": "markdown",
      "source": "We first need to create a folium `Map` object, with an initial center location to be NASA Johnson Space Center at Houston, Texas.\n",
      "metadata": {}
    },
    {
      "cell_type": "code",
      "source": "# Start location is NASA Johnson Space Center\nnasa_coordinate = [29.559684888503615, -95.0830971930759]\nsite_map = folium.Map(location=nasa_coordinate, zoom_start=10)",
      "metadata": {
        "trusted": true
      },
      "outputs": [],
      "execution_count": 8
    },
    {
      "cell_type": "markdown",
      "source": "We could use `folium.Circle` to add a highlighted circle area with a text label on a specific coordinate. For example,\n",
      "metadata": {}
    },
    {
      "cell_type": "code",
      "source": "# Create a blue circle at NASA Johnson Space Center's coordinate with a popup label showing its name\ncircle = folium.Circle(nasa_coordinate, radius=1000, color='#d35400', fill=True).add_child(folium.Popup('NASA Johnson Space Center'))\n# Create a blue circle at NASA Johnson Space Center's coordinate with a icon showing its name\nmarker = folium.map.Marker(\n    nasa_coordinate,\n    # Create an icon as a text label\n    icon=DivIcon(\n        icon_size=(20,20),\n        icon_anchor=(0,0),\n        html='<div style=\"font-size: 8; color:#d35400;\"><b>%s</b></div>' % 'NASA JSC',\n        )\n    )\nsite_map.add_child(circle)\nsite_map.add_child(marker)",
      "metadata": {
        "trusted": true,
        "scrolled": true
      },
      "outputs": [
        {
          "execution_count": 24,
          "output_type": "execute_result",
          "data": {
            "text/plain": "<folium.folium.Map at 0x5605080>",
            "text/html": "<div style=\"width:100%;\"><div style=\"position:relative;width:100%;height:0;padding-bottom:60%;\"><span style=\"color:#565656\">Make this Notebook Trusted to load map: File -> Trust Notebook</span><iframe srcdoc=\"&lt;!DOCTYPE html&gt;\n&lt;html&gt;\n&lt;head&gt;\n    \n    &lt;meta http-equiv=&quot;content-type&quot; content=&quot;text/html; charset=UTF-8&quot; /&gt;\n    \n        &lt;script&gt;\n            L_NO_TOUCH = false;\n            L_DISABLE_3D = false;\n        &lt;/script&gt;\n    \n    &lt;style&gt;html, body {width: 100%;height: 100%;margin: 0;padding: 0;}&lt;/style&gt;\n    &lt;style&gt;#map {position:absolute;top:0;bottom:0;right:0;left:0;}&lt;/style&gt;\n    &lt;script src=&quot;https://cdn.jsdelivr.net/npm/leaflet@1.9.3/dist/leaflet.js&quot;&gt;&lt;/script&gt;\n    &lt;script src=&quot;https://code.jquery.com/jquery-3.7.1.min.js&quot;&gt;&lt;/script&gt;\n    &lt;script src=&quot;https://cdn.jsdelivr.net/npm/bootstrap@5.2.2/dist/js/bootstrap.bundle.min.js&quot;&gt;&lt;/script&gt;\n    &lt;script src=&quot;https://cdnjs.cloudflare.com/ajax/libs/Leaflet.awesome-markers/2.0.2/leaflet.awesome-markers.js&quot;&gt;&lt;/script&gt;\n    &lt;link rel=&quot;stylesheet&quot; href=&quot;https://cdn.jsdelivr.net/npm/leaflet@1.9.3/dist/leaflet.css&quot;/&gt;\n    &lt;link rel=&quot;stylesheet&quot; href=&quot;https://cdn.jsdelivr.net/npm/bootstrap@5.2.2/dist/css/bootstrap.min.css&quot;/&gt;\n    &lt;link rel=&quot;stylesheet&quot; href=&quot;https://netdna.bootstrapcdn.com/bootstrap/3.0.0/css/bootstrap.min.css&quot;/&gt;\n    &lt;link rel=&quot;stylesheet&quot; href=&quot;https://cdn.jsdelivr.net/npm/@fortawesome/fontawesome-free@6.2.0/css/all.min.css&quot;/&gt;\n    &lt;link rel=&quot;stylesheet&quot; href=&quot;https://cdnjs.cloudflare.com/ajax/libs/Leaflet.awesome-markers/2.0.2/leaflet.awesome-markers.css&quot;/&gt;\n    &lt;link rel=&quot;stylesheet&quot; href=&quot;https://cdn.jsdelivr.net/gh/python-visualization/folium/folium/templates/leaflet.awesome.rotate.min.css&quot;/&gt;\n    \n            &lt;meta name=&quot;viewport&quot; content=&quot;width=device-width,\n                initial-scale=1.0, maximum-scale=1.0, user-scalable=no&quot; /&gt;\n            &lt;style&gt;\n                #map_87f06f44cd6344cee5ca69eae4fdf43c {\n                    position: relative;\n                    width: 100.0%;\n                    height: 100.0%;\n                    left: 0.0%;\n                    top: 0.0%;\n                }\n                .leaflet-container { font-size: 1rem; }\n            &lt;/style&gt;\n        \n&lt;/head&gt;\n&lt;body&gt;\n    \n    \n            &lt;div class=&quot;folium-map&quot; id=&quot;map_87f06f44cd6344cee5ca69eae4fdf43c&quot; &gt;&lt;/div&gt;\n        \n&lt;/body&gt;\n&lt;script&gt;\n    \n    \n            var map_87f06f44cd6344cee5ca69eae4fdf43c = L.map(\n                &quot;map_87f06f44cd6344cee5ca69eae4fdf43c&quot;,\n                {\n                    center: [29.559684888503615, -95.0830971930759],\n                    crs: L.CRS.EPSG3857,\n                    zoom: 5,\n                    zoomControl: true,\n                    preferCanvas: false,\n                }\n            );\n\n            \n\n        \n    \n            var tile_layer_d8b7477377a13a54f4b44a938c414486 = L.tileLayer(\n                &quot;https://{s}.tile.openstreetmap.org/{z}/{x}/{y}.png&quot;,\n                {&quot;attribution&quot;: &quot;Data by \\u0026copy; \\u003ca target=\\&quot;_blank\\&quot; href=\\&quot;http://openstreetmap.org\\&quot;\\u003eOpenStreetMap\\u003c/a\\u003e, under \\u003ca target=\\&quot;_blank\\&quot; href=\\&quot;http://www.openstreetmap.org/copyright\\&quot;\\u003eODbL\\u003c/a\\u003e.&quot;, &quot;detectRetina&quot;: false, &quot;maxNativeZoom&quot;: 18, &quot;maxZoom&quot;: 18, &quot;minZoom&quot;: 0, &quot;noWrap&quot;: false, &quot;opacity&quot;: 1, &quot;subdomains&quot;: &quot;abc&quot;, &quot;tms&quot;: false}\n            );\n        \n    \n                tile_layer_d8b7477377a13a54f4b44a938c414486.addTo(map_87f06f44cd6344cee5ca69eae4fdf43c);\n    \n            var circle_dc21c75b7d64079697dd1d7dbae9a006 = L.circle(\n                [29.559684888503615, -95.0830971930759],\n                {&quot;bubblingMouseEvents&quot;: true, &quot;color&quot;: &quot;#d35400&quot;, &quot;dashArray&quot;: null, &quot;dashOffset&quot;: null, &quot;fill&quot;: true, &quot;fillColor&quot;: &quot;#d35400&quot;, &quot;fillOpacity&quot;: 0.2, &quot;fillRule&quot;: &quot;evenodd&quot;, &quot;lineCap&quot;: &quot;round&quot;, &quot;lineJoin&quot;: &quot;round&quot;, &quot;opacity&quot;: 1.0, &quot;radius&quot;: 1000, &quot;stroke&quot;: true, &quot;weight&quot;: 3}\n            ).addTo(map_87f06f44cd6344cee5ca69eae4fdf43c);\n        \n    \n        var popup_13c25b3840aecc7e0285cd6b83874fc1 = L.popup({&quot;maxWidth&quot;: &quot;100%&quot;});\n\n        \n            \n                var html_ca92a899407449dd98f101c7094ad311 = $(`&lt;div id=&quot;html_ca92a899407449dd98f101c7094ad311&quot; style=&quot;width: 100.0%; height: 100.0%;&quot;&gt;NASA Johnson Space Center&lt;/div&gt;`)[0];\n                popup_13c25b3840aecc7e0285cd6b83874fc1.setContent(html_ca92a899407449dd98f101c7094ad311);\n            \n        \n\n        circle_dc21c75b7d64079697dd1d7dbae9a006.bindPopup(popup_13c25b3840aecc7e0285cd6b83874fc1)\n        ;\n\n        \n    \n    \n            var marker_2e87998983d9ac1e771d2ee5a4e1bb87 = L.marker(\n                [29.559684888503615, -95.0830971930759],\n                {}\n            ).addTo(map_87f06f44cd6344cee5ca69eae4fdf43c);\n        \n    \n            var div_icon_1a0ca8e2e178511dfaa3b0879144732c = L.divIcon({&quot;className&quot;: &quot;empty&quot;, &quot;html&quot;: &quot;\\u003cdiv style=\\&quot;font-size: 8; color:#d35400;\\&quot;\\u003e\\u003cb\\u003eNASA JSC\\u003c/b\\u003e\\u003c/div\\u003e&quot;, &quot;iconAnchor&quot;: [0, 0], &quot;iconSize&quot;: [20, 20]});\n            marker_2e87998983d9ac1e771d2ee5a4e1bb87.setIcon(div_icon_1a0ca8e2e178511dfaa3b0879144732c);\n        \n    \n            var marker_1322179756f1028ca37b2bd105742363 = L.marker(\n                [29.559684888503615, -95.0830971930759],\n                {}\n            ).addTo(map_87f06f44cd6344cee5ca69eae4fdf43c);\n        \n    \n            var div_icon_a906214cf2e04f8aa300922b67fd6901 = L.divIcon({&quot;className&quot;: &quot;empty&quot;, &quot;html&quot;: &quot;\\u003cdiv style=\\&quot;font-size: 8; color:#d35400;\\&quot;\\u003e\\u003cb\\u003eNASA JSC\\u003c/b\\u003e\\u003c/div\\u003e&quot;, &quot;iconAnchor&quot;: [0, 0], &quot;iconSize&quot;: [20, 20]});\n            marker_1322179756f1028ca37b2bd105742363.setIcon(div_icon_a906214cf2e04f8aa300922b67fd6901);\n        \n    \n            var circle_e8c156f002e51557464f2e0af1b4c963 = L.circle(\n                [29.559684888503615, -95.0830971930759],\n                {&quot;bubblingMouseEvents&quot;: true, &quot;color&quot;: &quot;#d35400&quot;, &quot;dashArray&quot;: null, &quot;dashOffset&quot;: null, &quot;fill&quot;: true, &quot;fillColor&quot;: &quot;#d35400&quot;, &quot;fillOpacity&quot;: 0.2, &quot;fillRule&quot;: &quot;evenodd&quot;, &quot;lineCap&quot;: &quot;round&quot;, &quot;lineJoin&quot;: &quot;round&quot;, &quot;opacity&quot;: 1.0, &quot;radius&quot;: 1000, &quot;stroke&quot;: true, &quot;weight&quot;: 3}\n            ).addTo(map_87f06f44cd6344cee5ca69eae4fdf43c);\n        \n    \n        var popup_957ee81a407fe162bf04cdfb858325c7 = L.popup({&quot;maxWidth&quot;: &quot;100%&quot;});\n\n        \n            \n                var html_47518bc17a4ff8c996153a427a291c8b = $(`&lt;div id=&quot;html_47518bc17a4ff8c996153a427a291c8b&quot; style=&quot;width: 100.0%; height: 100.0%;&quot;&gt;NASA Johnson Space Center&lt;/div&gt;`)[0];\n                popup_957ee81a407fe162bf04cdfb858325c7.setContent(html_47518bc17a4ff8c996153a427a291c8b);\n            \n        \n\n        circle_e8c156f002e51557464f2e0af1b4c963.bindPopup(popup_957ee81a407fe162bf04cdfb858325c7)\n        ;\n\n        \n    \n    \n            var marker_cfba23e6a59f543f6fc730636ec0da4a = L.marker(\n                [29.559684888503615, -95.0830971930759],\n                {}\n            ).addTo(map_87f06f44cd6344cee5ca69eae4fdf43c);\n        \n    \n            var div_icon_30df6a42edd7dbb12052775fd896f372 = L.divIcon({&quot;className&quot;: &quot;empty&quot;, &quot;html&quot;: &quot;\\u003cdiv style=\\&quot;font-size: 8; color:#d35400;\\&quot;\\u003e\\u003cb\\u003eNASA JSC\\u003c/b\\u003e\\u003c/div\\u003e&quot;, &quot;iconAnchor&quot;: [0, 0], &quot;iconSize&quot;: [20, 20]});\n            marker_cfba23e6a59f543f6fc730636ec0da4a.setIcon(div_icon_30df6a42edd7dbb12052775fd896f372);\n        \n    \n            var marker_b20e75cbfd631578663834d13ee2d21d = L.marker(\n                [29.559684888503615, -95.0830971930759],\n                {}\n            ).addTo(map_87f06f44cd6344cee5ca69eae4fdf43c);\n        \n    \n            var div_icon_b00ed4d83a767f785ebcc3e48e421f7e = L.divIcon({&quot;className&quot;: &quot;empty&quot;, &quot;html&quot;: &quot;\\u003cdiv style=\\&quot;font-size: 8; color:#d35400;\\&quot;\\u003e\\u003cb\\u003eNASA JSC\\u003c/b\\u003e\\u003c/div\\u003e&quot;, &quot;iconAnchor&quot;: [0, 0], &quot;iconSize&quot;: [20, 20]});\n            marker_b20e75cbfd631578663834d13ee2d21d.setIcon(div_icon_b00ed4d83a767f785ebcc3e48e421f7e);\n        \n    \n            var marker_5d191d8ec713400aa03a67056c43bc53 = L.marker(\n                [29.559684888503615, -95.0830971930759],\n                {}\n            ).addTo(map_87f06f44cd6344cee5ca69eae4fdf43c);\n        \n    \n            var div_icon_4ed25388122f82d1b2c469e7b89b15e6 = L.divIcon({&quot;className&quot;: &quot;empty&quot;, &quot;html&quot;: &quot;\\u003cdiv style=\\&quot;font-size: 8; color:#d35400;\\&quot;\\u003e\\u003cb\\u003eNASA JSC\\u003c/b\\u003e\\u003c/div\\u003e&quot;, &quot;iconAnchor&quot;: [0, 0], &quot;iconSize&quot;: [20, 20]});\n            marker_5d191d8ec713400aa03a67056c43bc53.setIcon(div_icon_4ed25388122f82d1b2c469e7b89b15e6);\n        \n    \n            var marker_4d2a5d25c9e13c25b1df355b9f519769 = L.marker(\n                [29.559684888503615, -95.0830971930759],\n                {}\n            ).addTo(map_87f06f44cd6344cee5ca69eae4fdf43c);\n        \n    \n            var div_icon_7e286686c57d09565606069f7a92a7a9 = L.divIcon({&quot;className&quot;: &quot;empty&quot;, &quot;html&quot;: &quot;\\u003cdiv style=\\&quot;font-size: 8; color:#d35400;\\&quot;\\u003e\\u003cb\\u003eNASA JSC\\u003c/b\\u003e\\u003c/div\\u003e&quot;, &quot;iconAnchor&quot;: [0, 0], &quot;iconSize&quot;: [20, 20]});\n            marker_4d2a5d25c9e13c25b1df355b9f519769.setIcon(div_icon_7e286686c57d09565606069f7a92a7a9);\n        \n&lt;/script&gt;\n&lt;/html&gt;\" style=\"position:absolute;width:100%;height:100%;left:0;top:0;border:none !important;\" allowfullscreen webkitallowfullscreen mozallowfullscreen></iframe></div></div>"
          },
          "metadata": {}
        }
      ],
      "execution_count": 24
    },
    {
      "cell_type": "markdown",
      "source": "and you should find a small yellow circle near the city of Houston and you can zoom-in to see a larger circle.\n",
      "metadata": {}
    },
    {
      "cell_type": "markdown",
      "source": "Now, let's add a circle for each launch site in data frame `launch_sites`\n",
      "metadata": {}
    },
    {
      "cell_type": "markdown",
      "source": "*TODO:*  Create and add `folium.Circle` and `folium.Marker` for each launch site on the site map\n",
      "metadata": {}
    },
    {
      "cell_type": "markdown",
      "source": "An example of folium.Circle:\n",
      "metadata": {}
    },
    {
      "cell_type": "markdown",
      "source": "`folium.Circle(coordinate, radius=1000, color='#000000', fill=True).add_child(folium.Popup(...))`\n",
      "metadata": {}
    },
    {
      "cell_type": "markdown",
      "source": "An example of folium.Marker:\n",
      "metadata": {}
    },
    {
      "cell_type": "markdown",
      "source": "`folium.map.Marker(coordinate, icon=DivIcon(icon_size=(20,20),icon_anchor=(0,0), html='<div style=\"font-size: 12; color:#d35400;\"><b>%s</b></div>' % 'label', ))`\n",
      "metadata": {}
    },
    {
      "cell_type": "code",
      "source": "# Initial the map\nsite_map = folium.Map(location=nasa_coordinate, zoom_start=5)\n# For each launch site, add a Circle object based on its coordinate (Lat, Long) values. In addition, add Launch site name as a popup label\nsite_map",
      "metadata": {
        "trusted": true,
        "scrolled": true
      },
      "outputs": [
        {
          "execution_count": 11,
          "output_type": "execute_result",
          "data": {
            "text/plain": "<folium.folium.Map at 0x5605080>",
            "text/html": "<div style=\"width:100%;\"><div style=\"position:relative;width:100%;height:0;padding-bottom:60%;\"><span style=\"color:#565656\">Make this Notebook Trusted to load map: File -> Trust Notebook</span><iframe srcdoc=\"&lt;!DOCTYPE html&gt;\n&lt;html&gt;\n&lt;head&gt;\n    \n    &lt;meta http-equiv=&quot;content-type&quot; content=&quot;text/html; charset=UTF-8&quot; /&gt;\n    \n        &lt;script&gt;\n            L_NO_TOUCH = false;\n            L_DISABLE_3D = false;\n        &lt;/script&gt;\n    \n    &lt;style&gt;html, body {width: 100%;height: 100%;margin: 0;padding: 0;}&lt;/style&gt;\n    &lt;style&gt;#map {position:absolute;top:0;bottom:0;right:0;left:0;}&lt;/style&gt;\n    &lt;script src=&quot;https://cdn.jsdelivr.net/npm/leaflet@1.9.3/dist/leaflet.js&quot;&gt;&lt;/script&gt;\n    &lt;script src=&quot;https://code.jquery.com/jquery-3.7.1.min.js&quot;&gt;&lt;/script&gt;\n    &lt;script src=&quot;https://cdn.jsdelivr.net/npm/bootstrap@5.2.2/dist/js/bootstrap.bundle.min.js&quot;&gt;&lt;/script&gt;\n    &lt;script src=&quot;https://cdnjs.cloudflare.com/ajax/libs/Leaflet.awesome-markers/2.0.2/leaflet.awesome-markers.js&quot;&gt;&lt;/script&gt;\n    &lt;link rel=&quot;stylesheet&quot; href=&quot;https://cdn.jsdelivr.net/npm/leaflet@1.9.3/dist/leaflet.css&quot;/&gt;\n    &lt;link rel=&quot;stylesheet&quot; href=&quot;https://cdn.jsdelivr.net/npm/bootstrap@5.2.2/dist/css/bootstrap.min.css&quot;/&gt;\n    &lt;link rel=&quot;stylesheet&quot; href=&quot;https://netdna.bootstrapcdn.com/bootstrap/3.0.0/css/bootstrap.min.css&quot;/&gt;\n    &lt;link rel=&quot;stylesheet&quot; href=&quot;https://cdn.jsdelivr.net/npm/@fortawesome/fontawesome-free@6.2.0/css/all.min.css&quot;/&gt;\n    &lt;link rel=&quot;stylesheet&quot; href=&quot;https://cdnjs.cloudflare.com/ajax/libs/Leaflet.awesome-markers/2.0.2/leaflet.awesome-markers.css&quot;/&gt;\n    &lt;link rel=&quot;stylesheet&quot; href=&quot;https://cdn.jsdelivr.net/gh/python-visualization/folium/folium/templates/leaflet.awesome.rotate.min.css&quot;/&gt;\n    \n            &lt;meta name=&quot;viewport&quot; content=&quot;width=device-width,\n                initial-scale=1.0, maximum-scale=1.0, user-scalable=no&quot; /&gt;\n            &lt;style&gt;\n                #map_87f06f44cd6344cee5ca69eae4fdf43c {\n                    position: relative;\n                    width: 100.0%;\n                    height: 100.0%;\n                    left: 0.0%;\n                    top: 0.0%;\n                }\n                .leaflet-container { font-size: 1rem; }\n            &lt;/style&gt;\n        \n&lt;/head&gt;\n&lt;body&gt;\n    \n    \n            &lt;div class=&quot;folium-map&quot; id=&quot;map_87f06f44cd6344cee5ca69eae4fdf43c&quot; &gt;&lt;/div&gt;\n        \n&lt;/body&gt;\n&lt;script&gt;\n    \n    \n            var map_87f06f44cd6344cee5ca69eae4fdf43c = L.map(\n                &quot;map_87f06f44cd6344cee5ca69eae4fdf43c&quot;,\n                {\n                    center: [29.559684888503615, -95.0830971930759],\n                    crs: L.CRS.EPSG3857,\n                    zoom: 5,\n                    zoomControl: true,\n                    preferCanvas: false,\n                }\n            );\n\n            \n\n        \n    \n            var tile_layer_d8b7477377a13a54f4b44a938c414486 = L.tileLayer(\n                &quot;https://{s}.tile.openstreetmap.org/{z}/{x}/{y}.png&quot;,\n                {&quot;attribution&quot;: &quot;Data by \\u0026copy; \\u003ca target=\\&quot;_blank\\&quot; href=\\&quot;http://openstreetmap.org\\&quot;\\u003eOpenStreetMap\\u003c/a\\u003e, under \\u003ca target=\\&quot;_blank\\&quot; href=\\&quot;http://www.openstreetmap.org/copyright\\&quot;\\u003eODbL\\u003c/a\\u003e.&quot;, &quot;detectRetina&quot;: false, &quot;maxNativeZoom&quot;: 18, &quot;maxZoom&quot;: 18, &quot;minZoom&quot;: 0, &quot;noWrap&quot;: false, &quot;opacity&quot;: 1, &quot;subdomains&quot;: &quot;abc&quot;, &quot;tms&quot;: false}\n            );\n        \n    \n                tile_layer_d8b7477377a13a54f4b44a938c414486.addTo(map_87f06f44cd6344cee5ca69eae4fdf43c);\n&lt;/script&gt;\n&lt;/html&gt;\" style=\"position:absolute;width:100%;height:100%;left:0;top:0;border:none !important;\" allowfullscreen webkitallowfullscreen mozallowfullscreen></iframe></div></div>"
          },
          "metadata": {}
        }
      ],
      "execution_count": 11
    },
    {
      "cell_type": "markdown",
      "source": "The generated map with marked launch sites should look similar to the following:\n",
      "metadata": {}
    },
    {
      "cell_type": "markdown",
      "source": "<center>\n    <img src=\"https://cf-courses-data.s3.us.cloud-object-storage.appdomain.cloud/IBM-DS0321EN-SkillsNetwork/labs/module_3/images/launch_site_markers.png\">\n</center>\n",
      "metadata": {}
    },
    {
      "cell_type": "markdown",
      "source": "Now, you can explore the map by zoom-in/out the marked areas\n, and try to answer the following questions:\n\n*   Are all launch sites in proximity to the Equator line?\n*   Are all launch sites in very close proximity to the coast?\n\nAlso please try to explain your findings.\n",
      "metadata": {}
    },
    {
      "cell_type": "code",
      "source": "spacex_df.head(4)",
      "metadata": {
        "trusted": true
      },
      "outputs": [
        {
          "execution_count": 16,
          "output_type": "execute_result",
          "data": {
            "text/plain": "   Flight Number        Date Time (UTC) Booster Version  Launch Site  \\\n0              1  2010-06-04   18:45:00  F9 v1.0  B0003  CCAFS LC-40   \n1              2  2010-12-08   15:43:00  F9 v1.0  B0004  CCAFS LC-40   \n2              3  2012-05-22    7:44:00  F9 v1.0  B0005  CCAFS LC-40   \n3              4  2012-10-08    0:35:00  F9 v1.0  B0006  CCAFS LC-40   \n\n                                             Payload  Payload Mass (kg)  \\\n0               Dragon Spacecraft Qualification Unit                0.0   \n1  Dragon demo flight C1, two CubeSats,  barrel o...                0.0   \n2                             Dragon demo flight C2+              525.0   \n3                                       SpaceX CRS-1              500.0   \n\n       Orbit         Customer        Landing Outcome  class        Lat  \\\n0        LEO           SpaceX  Failure   (parachute)      0  28.562302   \n1  LEO (ISS)  NASA (COTS) NRO  Failure   (parachute)      0  28.562302   \n2  LEO (ISS)      NASA (COTS)             No attempt      0  28.562302   \n3  LEO (ISS)       NASA (CRS)             No attempt      0  28.562302   \n\n        Long  \n0 -80.577356  \n1 -80.577356  \n2 -80.577356  \n3 -80.577356  ",
            "text/html": "<div>\n<style scoped>\n    .dataframe tbody tr th:only-of-type {\n        vertical-align: middle;\n    }\n\n    .dataframe tbody tr th {\n        vertical-align: top;\n    }\n\n    .dataframe thead th {\n        text-align: right;\n    }\n</style>\n<table border=\"1\" class=\"dataframe\">\n  <thead>\n    <tr style=\"text-align: right;\">\n      <th></th>\n      <th>Flight Number</th>\n      <th>Date</th>\n      <th>Time (UTC)</th>\n      <th>Booster Version</th>\n      <th>Launch Site</th>\n      <th>Payload</th>\n      <th>Payload Mass (kg)</th>\n      <th>Orbit</th>\n      <th>Customer</th>\n      <th>Landing Outcome</th>\n      <th>class</th>\n      <th>Lat</th>\n      <th>Long</th>\n    </tr>\n  </thead>\n  <tbody>\n    <tr>\n      <th>0</th>\n      <td>1</td>\n      <td>2010-06-04</td>\n      <td>18:45:00</td>\n      <td>F9 v1.0  B0003</td>\n      <td>CCAFS LC-40</td>\n      <td>Dragon Spacecraft Qualification Unit</td>\n      <td>0.0</td>\n      <td>LEO</td>\n      <td>SpaceX</td>\n      <td>Failure   (parachute)</td>\n      <td>0</td>\n      <td>28.562302</td>\n      <td>-80.577356</td>\n    </tr>\n    <tr>\n      <th>1</th>\n      <td>2</td>\n      <td>2010-12-08</td>\n      <td>15:43:00</td>\n      <td>F9 v1.0  B0004</td>\n      <td>CCAFS LC-40</td>\n      <td>Dragon demo flight C1, two CubeSats,  barrel o...</td>\n      <td>0.0</td>\n      <td>LEO (ISS)</td>\n      <td>NASA (COTS) NRO</td>\n      <td>Failure   (parachute)</td>\n      <td>0</td>\n      <td>28.562302</td>\n      <td>-80.577356</td>\n    </tr>\n    <tr>\n      <th>2</th>\n      <td>3</td>\n      <td>2012-05-22</td>\n      <td>7:44:00</td>\n      <td>F9 v1.0  B0005</td>\n      <td>CCAFS LC-40</td>\n      <td>Dragon demo flight C2+</td>\n      <td>525.0</td>\n      <td>LEO (ISS)</td>\n      <td>NASA (COTS)</td>\n      <td>No attempt</td>\n      <td>0</td>\n      <td>28.562302</td>\n      <td>-80.577356</td>\n    </tr>\n    <tr>\n      <th>3</th>\n      <td>4</td>\n      <td>2012-10-08</td>\n      <td>0:35:00</td>\n      <td>F9 v1.0  B0006</td>\n      <td>CCAFS LC-40</td>\n      <td>SpaceX CRS-1</td>\n      <td>500.0</td>\n      <td>LEO (ISS)</td>\n      <td>NASA (CRS)</td>\n      <td>No attempt</td>\n      <td>0</td>\n      <td>28.562302</td>\n      <td>-80.577356</td>\n    </tr>\n  </tbody>\n</table>\n</div>"
          },
          "metadata": {}
        }
      ],
      "execution_count": 16
    },
    {
      "cell_type": "code",
      "source": "spacex_df['Landing Outcome'].unique()",
      "metadata": {
        "trusted": true
      },
      "outputs": [
        {
          "execution_count": 25,
          "output_type": "execute_result",
          "data": {
            "text/plain": "array(['Failure   (parachute)', 'No attempt', 'Controlled (ocean)',\n       'Uncontrolled (ocean)', 'Failure  (drone ship)',\n       'Precluded  (drone ship)', 'Success  (ground pad)',\n       'Failure (drone ship)', 'Success  (drone ship)',\n       'Success (drone ship)', 'Success (ground pad)'], dtype=object)"
          },
          "metadata": {}
        }
      ],
      "execution_count": 25
    },
    {
      "cell_type": "code",
      "source": "spacex_df1 = spacex_df[['Landing Outcome', 'Lat', 'Long', 'class']]\nlaunch_sites_df2 = spacex_df1.groupby(['Landing Outcome'], as_index=False).first()\nlaunch_sites_df3 = launch_sites_df2[['Landing Outcome', 'Lat', 'Long']]\nlaunch_sites_df3",
      "metadata": {
        "trusted": true
      },
      "outputs": [
        {
          "execution_count": 26,
          "output_type": "execute_result",
          "data": {
            "text/plain": "            Landing Outcome        Lat       Long\n0        Controlled (ocean)  28.562302 -80.577356\n1     Failure   (parachute)  28.562302 -80.577356\n2     Failure  (drone ship)  28.562302 -80.577356\n3      Failure (drone ship)  28.562302 -80.577356\n4                No attempt  28.562302 -80.577356\n5   Precluded  (drone ship)  28.562302 -80.577356\n6     Success  (drone ship)  28.562302 -80.577356\n7     Success  (ground pad)  28.562302 -80.577356\n8      Success (drone ship)  28.562302 -80.577356\n9      Success (ground pad)  28.562302 -80.577356\n10     Uncontrolled (ocean)  28.562302 -80.577356",
            "text/html": "<div>\n<style scoped>\n    .dataframe tbody tr th:only-of-type {\n        vertical-align: middle;\n    }\n\n    .dataframe tbody tr th {\n        vertical-align: top;\n    }\n\n    .dataframe thead th {\n        text-align: right;\n    }\n</style>\n<table border=\"1\" class=\"dataframe\">\n  <thead>\n    <tr style=\"text-align: right;\">\n      <th></th>\n      <th>Landing Outcome</th>\n      <th>Lat</th>\n      <th>Long</th>\n    </tr>\n  </thead>\n  <tbody>\n    <tr>\n      <th>0</th>\n      <td>Controlled (ocean)</td>\n      <td>28.562302</td>\n      <td>-80.577356</td>\n    </tr>\n    <tr>\n      <th>1</th>\n      <td>Failure   (parachute)</td>\n      <td>28.562302</td>\n      <td>-80.577356</td>\n    </tr>\n    <tr>\n      <th>2</th>\n      <td>Failure  (drone ship)</td>\n      <td>28.562302</td>\n      <td>-80.577356</td>\n    </tr>\n    <tr>\n      <th>3</th>\n      <td>Failure (drone ship)</td>\n      <td>28.562302</td>\n      <td>-80.577356</td>\n    </tr>\n    <tr>\n      <th>4</th>\n      <td>No attempt</td>\n      <td>28.562302</td>\n      <td>-80.577356</td>\n    </tr>\n    <tr>\n      <th>5</th>\n      <td>Precluded  (drone ship)</td>\n      <td>28.562302</td>\n      <td>-80.577356</td>\n    </tr>\n    <tr>\n      <th>6</th>\n      <td>Success  (drone ship)</td>\n      <td>28.562302</td>\n      <td>-80.577356</td>\n    </tr>\n    <tr>\n      <th>7</th>\n      <td>Success  (ground pad)</td>\n      <td>28.562302</td>\n      <td>-80.577356</td>\n    </tr>\n    <tr>\n      <th>8</th>\n      <td>Success (drone ship)</td>\n      <td>28.562302</td>\n      <td>-80.577356</td>\n    </tr>\n    <tr>\n      <th>9</th>\n      <td>Success (ground pad)</td>\n      <td>28.562302</td>\n      <td>-80.577356</td>\n    </tr>\n    <tr>\n      <th>10</th>\n      <td>Uncontrolled (ocean)</td>\n      <td>28.562302</td>\n      <td>-80.577356</td>\n    </tr>\n  </tbody>\n</table>\n</div>"
          },
          "metadata": {}
        }
      ],
      "execution_count": 26
    },
    {
      "cell_type": "code",
      "source": "marker = folium.map.Marker(\n    nasa_coordinate,\n    # Create an icon as a text label\n    icon=DivIcon(\n        icon_size=(20,20),\n        icon_anchor=(0,0),\n        html='<div style=\"font-size: 8; color:#d35400;\"><b>%s</b></div>' % 'NASA JSC',\n        )\n    )\nsite_map.add_child(circle)\nsite_map.add_child(marker)",
      "metadata": {
        "trusted": true
      },
      "outputs": [],
      "execution_count": null
    },
    {
      "cell_type": "code",
      "source": "# Task 2: Mark the success/failed launches for each site on the map\n",
      "metadata": {},
      "outputs": [],
      "execution_count": null
    },
    {
      "cell_type": "markdown",
      "source": "Next, let's try to enhance the map by adding the launch outcomes for each site, and see which sites have high success rates.\nRecall that data frame spacex_df has detailed launch records, and the `class` column indicates if this launch was successful or not\n",
      "metadata": {}
    },
    {
      "cell_type": "code",
      "source": "spacex_df.tail(10)",
      "metadata": {},
      "outputs": [],
      "execution_count": null
    },
    {
      "cell_type": "markdown",
      "source": "Next, let's create markers for all launch records.\nIf a launch was successful `(class=1)`, then we use a green marker and if a launch was failed, we use a red marker `(class=0)`\n",
      "metadata": {}
    },
    {
      "cell_type": "markdown",
      "source": "Note that a launch only happens in one of the four launch sites, which means many launch records will have the exact same coordinate. Marker clusters can be a good way to simplify a map containing many markers having the same coordinate.\n",
      "metadata": {}
    },
    {
      "cell_type": "markdown",
      "source": "Let's first create a `MarkerCluster` object\n",
      "metadata": {}
    },
    {
      "cell_type": "code",
      "source": "marker_cluster = MarkerCluster()\n",
      "metadata": {},
      "outputs": [],
      "execution_count": null
    },
    {
      "cell_type": "markdown",
      "source": "*TODO:* Create a new column in `launch_sites` dataframe called `marker_color` to store the marker colors based on the `class` value\n",
      "metadata": {}
    },
    {
      "cell_type": "code",
      "source": "\n# Apply a function to check the value of `class` column\n# If class=1, marker_color value will be green\n# If class=0, marker_color value will be red",
      "metadata": {},
      "outputs": [],
      "execution_count": null
    },
    {
      "cell_type": "markdown",
      "source": "*TODO:* For each launch result in `spacex_df` data frame, add a `folium.Marker` to `marker_cluster`\n",
      "metadata": {}
    },
    {
      "cell_type": "code",
      "source": "# Add marker_cluster to current site_map\nsite_map.add_child(marker_cluster)\n\n# for each row in spacex_df data frame\n# create a Marker object with its coordinate\n# and customize the Marker's icon property to indicate if this launch was successed or failed, \n# e.g., icon=folium.Icon(color='white', icon_color=row['marker_color']\nfor index, record in spacex_df.iterrows():\n    # TODO: Create and add a Marker cluster to the site map\n    # marker = folium.Marker(...)\n    marker_cluster.add_child(marker)\n\nsite_map",
      "metadata": {},
      "outputs": [],
      "execution_count": null
    },
    {
      "cell_type": "markdown",
      "source": "Your updated map may look like the following screenshots:\n",
      "metadata": {}
    },
    {
      "cell_type": "markdown",
      "source": "<center>\n    <img src=\"https://cf-courses-data.s3.us.cloud-object-storage.appdomain.cloud/IBM-DS0321EN-SkillsNetwork/labs/module_3/images/launch_site_marker_cluster.png\">\n</center>\n",
      "metadata": {}
    },
    {
      "cell_type": "markdown",
      "source": "<center>\n    <img src=\"https://cf-courses-data.s3.us.cloud-object-storage.appdomain.cloud/IBM-DS0321EN-SkillsNetwork/labs/module_3/images/launch_site_marker_cluster_zoomed.png\">\n</center>\n",
      "metadata": {}
    },
    {
      "cell_type": "markdown",
      "source": "From the color-labeled markers in marker clusters, you should be able to easily identify which launch sites have relatively high success rates.\n",
      "metadata": {}
    },
    {
      "cell_type": "code",
      "source": "# TASK 3: Calculate the distances between a launch site to its proximities\n",
      "metadata": {},
      "outputs": [],
      "execution_count": null
    },
    {
      "cell_type": "markdown",
      "source": "Next, we need to explore and analyze the proximities of launch sites.\n",
      "metadata": {}
    },
    {
      "cell_type": "markdown",
      "source": "Let's first add a `MousePosition` on the map to get coordinate for a mouse over a point on the map. As such, while you are exploring the map, you can easily find the coordinates of any points of interests (such as railway)\n",
      "metadata": {}
    },
    {
      "cell_type": "code",
      "source": "# Add Mouse Position to get the coordinate (Lat, Long) for a mouse over on the map\nformatter = \"function(num) {return L.Util.formatNum(num, 5);};\"\nmouse_position = MousePosition(\n    position='topright',\n    separator=' Long: ',\n    empty_string='NaN',\n    lng_first=False,\n    num_digits=20,\n    prefix='Lat:',\n    lat_formatter=formatter,\n    lng_formatter=formatter,\n)\n\nsite_map.add_child(mouse_position)\nsite_map",
      "metadata": {},
      "outputs": [],
      "execution_count": null
    },
    {
      "cell_type": "markdown",
      "source": "Now zoom in to a launch site and explore its proximity to see if you can easily find any railway, highway, coastline, etc. Move your mouse to these points and mark down their coordinates (shown on the top-left) in order to the distance to the launch site.\n",
      "metadata": {}
    },
    {
      "cell_type": "markdown",
      "source": "Now zoom in to a launch site and explore its proximity to see if you can easily find any railway, highway, coastline, etc. Move your mouse to these points and mark down their coordinates (shown on the top-left) in order to the distance to the launch site.\n",
      "metadata": {}
    },
    {
      "cell_type": "code",
      "source": "from math import sin, cos, sqrt, atan2, radians\n\ndef calculate_distance(lat1, lon1, lat2, lon2):\n    # approximate radius of earth in km\n    R = 6373.0\n\n    lat1 = radians(lat1)\n    lon1 = radians(lon1)\n    lat2 = radians(lat2)\n    lon2 = radians(lon2)\n\n    dlon = lon2 - lon1\n    dlat = lat2 - lat1\n\n    a = sin(dlat / 2)**2 + cos(lat1) * cos(lat2) * sin(dlon / 2)**2\n    c = 2 * atan2(sqrt(a), sqrt(1 - a))\n\n    distance = R * c\n    return distance",
      "metadata": {},
      "outputs": [],
      "execution_count": null
    },
    {
      "cell_type": "markdown",
      "source": "*TODO:* Mark down a point on the closest coastline using MousePosition and calculate the distance between the coastline point and the launch site.\n",
      "metadata": {}
    },
    {
      "cell_type": "code",
      "source": "# find coordinate of the closet coastline\n# e.g.,: Lat: 28.56367  Lon: -80.57163\n# distance_coastline = calculate_distance(launch_site_lat, launch_site_lon, coastline_lat, coastline_lon)",
      "metadata": {},
      "outputs": [],
      "execution_count": null
    },
    {
      "cell_type": "code",
      "source": "# Create and add a folium.Marker on your selected closest coastline point on the map\n# Display the distance between coastline point and launch site using the icon property \n# for example\n# distance_marker = folium.Marker(\n#    coordinate,\n#    icon=DivIcon(\n#        icon_size=(20,20),\n#        icon_anchor=(0,0),\n#        html='<div style=\"font-size: 12; color:#d35400;\"><b>%s</b></div>' % \"{:10.2f} KM\".format(distance),\n#        )\n#    )",
      "metadata": {},
      "outputs": [],
      "execution_count": null
    },
    {
      "cell_type": "markdown",
      "source": "*TODO:* Draw a `PolyLine` between a launch site to the selected coastline point\n",
      "metadata": {}
    },
    {
      "cell_type": "code",
      "source": "# Create a `folium.PolyLine` object using the coastline coordinates and launch site coordinate\n# lines=folium.PolyLine(locations=coordinates, weight=1)\nsite_map.add_child(lines)",
      "metadata": {},
      "outputs": [],
      "execution_count": null
    },
    {
      "cell_type": "markdown",
      "source": "Your updated map with distance line should look like the following screenshot:\n",
      "metadata": {}
    },
    {
      "cell_type": "markdown",
      "source": "<center>\n    <img src=\"https://cf-courses-data.s3.us.cloud-object-storage.appdomain.cloud/IBM-DS0321EN-SkillsNetwork/labs/module_3/images/launch_site_marker_distance.png\">\n</center>\n",
      "metadata": {}
    },
    {
      "cell_type": "markdown",
      "source": "*TODO:* Similarly, you can draw a line betwee a launch site to its closest city, railway, highway, etc. You need to use `MousePosition` to find the their coordinates on the map first\n",
      "metadata": {}
    },
    {
      "cell_type": "markdown",
      "source": "A railway map symbol may look like this:\n",
      "metadata": {}
    },
    {
      "cell_type": "markdown",
      "source": "<center>\n    <img src=\"https://cf-courses-data.s3.us.cloud-object-storage.appdomain.cloud/IBM-DS0321EN-SkillsNetwork/labs/module_3/images/railway.png\">\n</center>\n",
      "metadata": {}
    },
    {
      "cell_type": "markdown",
      "source": "A highway map symbol may look like this:\n",
      "metadata": {}
    },
    {
      "cell_type": "markdown",
      "source": "<center>\n    <img src=\"https://cf-courses-data.s3.us.cloud-object-storage.appdomain.cloud/IBM-DS0321EN-SkillsNetwork/labs/module_3/images/highway.png\">\n</center>\n",
      "metadata": {}
    },
    {
      "cell_type": "markdown",
      "source": "A city map symbol may look like this:\n",
      "metadata": {}
    },
    {
      "cell_type": "markdown",
      "source": "<center>\n    <img src=\"https://cf-courses-data.s3.us.cloud-object-storage.appdomain.cloud/IBM-DS0321EN-SkillsNetwork/labs/module_3/images/city.png\">\n</center>\n",
      "metadata": {}
    },
    {
      "cell_type": "code",
      "source": "# Create a marker with distance to a closest city, railway, highway, etc.\n# Draw a line between the marker to the launch site\n",
      "metadata": {},
      "outputs": [],
      "execution_count": null
    },
    {
      "cell_type": "code",
      "source": "",
      "metadata": {},
      "outputs": [],
      "execution_count": null
    },
    {
      "cell_type": "code",
      "source": "",
      "metadata": {},
      "outputs": [],
      "execution_count": null
    },
    {
      "cell_type": "markdown",
      "source": "After you plot distance lines to the proximities, you can answer the following questions easily:\n\n*   Are launch sites in close proximity to railways?\n*   Are launch sites in close proximity to highways?\n*   Are launch sites in close proximity to coastline?\n*   Do launch sites keep certain distance away from cities?\n\nAlso please try to explain your findings.\n",
      "metadata": {}
    },
    {
      "cell_type": "markdown",
      "source": "# Next Steps:\n\nNow you have discovered many interesting insights related to the launch sites' location using folium, in a very interactive way. Next, you will need to build a dashboard using Ploty Dash on detailed launch records.\n",
      "metadata": {}
    },
    {
      "cell_type": "markdown",
      "source": "## Authors\n",
      "metadata": {}
    },
    {
      "cell_type": "markdown",
      "source": "[Pratiksha Verma](https://www.linkedin.com/in/pratiksha-verma-6487561b1/?utm_medium=Exinfluencer&utm_source=Exinfluencer&utm_content=000026UJ&utm_term=10006555&utm_id=NA-SkillsNetwork-Channel-SkillsNetworkCoursesIBMDS0321ENSkillsNetwork865-2022-01-01)\n",
      "metadata": {}
    },
    {
      "cell_type": "markdown",
      "source": "## Change Log\n",
      "metadata": {}
    },
    {
      "cell_type": "markdown",
      "source": "| Date (YYYY-MM-DD) | Version | Changed By      | Change Description      |\n| ----------------- | ------- | -------------   | ----------------------- |\n| 2022-11-09        | 1.0     | Pratiksha Verma | Converted initial version to Jupyterlite|\n",
      "metadata": {}
    },
    {
      "cell_type": "markdown",
      "source": "### <h3 align=\"center\"> IBM Corporation 2022. All rights reserved. <h3/>\n",
      "metadata": {}
    }
  ]
}